{
 "cells": [
  {
   "cell_type": "code",
   "execution_count": null,
   "metadata": {},
   "outputs": [],
   "source": [
    "import pandas as pd\n",
    "exf=pd.ExcelFile(\"Input File.xlsx\")\n",
    "sheet1=exf.parse('Sheet1')\n",
    "sheet2=exf.parse('Sheet2')\n",
    "sheet3=exf.parse('Sheet3')\n",
    "sheet4=exf.parse('Sheet4')\n",
    "sheet5=exf.parse('Sheet5')\n",
    "sheet6=exf.parse('Sheet6')\n",
    "sheet7=exf.parse('Sheet7')\n",
    "sheet8=exf.parse('Sheet8')\n",
    "sheet9=exf.parse('Sheet9')\n",
    "sheet10=exf.parse('Sheet10')\n",
    "\n",
    "print(sheet1)\n",
    "\n",
    "sheet1.to_csv('Sheet1_convert.csv')\n",
    "sheet2.to_csv('Sheet2_convert.csv')\n",
    "sheet3.to_csv('Sheet3_convert.csv')\n",
    "sheet4.to_csv('Sheet4_convert.csv')\n",
    "sheet5.to_csv('Sheet5_convert.csv')\n",
    "sheet6.to_csv('Sheet6_convert.csv')\n",
    "sheet7.to_csv('Sheet7_convert.csv')\n",
    "sheet8.to_csv('Sheet8_convert.csv')\n",
    "sheet9.to_csv('Sheet9_convert.csv')\n",
    "sheet10.to_csv('Sheet10_convert.csv')"
   ]
  }
 ],
 "metadata": {
  "kernelspec": {
   "display_name": "Python 3",
   "language": "python",
   "name": "python3"
  },
  "language_info": {
   "codemirror_mode": {
    "name": "ipython",
    "version": 3
   },
   "file_extension": ".py",
   "mimetype": "text/x-python",
   "name": "python",
   "nbconvert_exporter": "python",
   "pygments_lexer": "ipython3",
   "version": "3.8.5"
  }
 },
 "nbformat": 4,
 "nbformat_minor": 4
}
